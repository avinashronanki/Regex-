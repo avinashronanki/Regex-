{
  "nbformat": 4,
  "nbformat_minor": 0,
  "metadata": {
    "colab": {
      "name": "REGEX & tokenization.ipynb",
      "provenance": [],
      "authorship_tag": "ABX9TyMHDfoFvtZMBSAlZCxEJP1r",
      "include_colab_link": true
    },
    "kernelspec": {
      "name": "python3",
      "display_name": "Python 3"
    }
  },
  "cells": [
    {
      "cell_type": "markdown",
      "metadata": {
        "id": "view-in-github",
        "colab_type": "text"
      },
      "source": [
        "<a href=\"https://colab.research.google.com/github/avinashronanki/Regex-/blob/master/REGEX_%26_tokenization.ipynb\" target=\"_parent\"><img src=\"https://colab.research.google.com/assets/colab-badge.svg\" alt=\"Open In Colab\"/></a>"
      ]
    },
    {
      "cell_type": "code",
      "metadata": {
        "id": "VrP2Uew3OXoO"
      },
      "source": [
        "#https://www.analyticsvidhya.com/blog/2019/07/how-get-started-nlp-6-unique-ways-perform-tokenization/\n",
        "#http://www.pyregex.com/"
      ],
      "execution_count": null,
      "outputs": []
    },
    {
      "cell_type": "code",
      "metadata": {
        "id": "MNDaSM_M9KBF"
      },
      "source": [
        "import re "
      ],
      "execution_count": null,
      "outputs": []
    },
    {
      "cell_type": "code",
      "metadata": {
        "id": "Zvk1Ws2AEHF7"
      },
      "source": [
        "my_string = \"Let's write RegEx!  Won't that be fun?  I sure think so.  Can you find 4 sentences?  Or perhaps, all 19 words?\""
      ],
      "execution_count": null,
      "outputs": []
    },
    {
      "cell_type": "code",
      "metadata": {
        "id": "ucq40MIoCOxD",
        "outputId": "cf82fa31-1573-419c-e8c9-dc44f8c108bc",
        "colab": {
          "base_uri": "https://localhost:8080/",
          "height": 34
        }
      },
      "source": [
        "# Find all capitalized words in my_string and print the result\n",
        "capitalized_words = r\"Let's write RegEx!\"\n",
        "print(re.findall(\"[A-Z]\\w+\",capitalized_words))"
      ],
      "execution_count": null,
      "outputs": [
        {
          "output_type": "stream",
          "text": [
            "['Let', 'RegEx']\n"
          ],
          "name": "stdout"
        }
      ]
    },
    {
      "cell_type": "code",
      "metadata": {
        "id": "mic2gvZGCmsC",
        "outputId": "61185713-719e-4c77-ccfb-a340484c3162",
        "colab": {
          "base_uri": "https://localhost:8080/",
          "height": 34
        }
      },
      "source": [
        "\n",
        "# Write a pattern to match sentence endings: sentence_endings\n",
        "sentence_endings = r\"[.?!]\"\n",
        "\n",
        "# Split my_string on sentence endings and print the result\n",
        "print(re.split(sentence_endings,my_string))"
      ],
      "execution_count": null,
      "outputs": [
        {
          "output_type": "stream",
          "text": [
            "[\"Let's write RegEx\", \"  Won't that be fun\", '  I sure think so', '  Can you find 4 sentences', '  Or perhaps, all 19 words', '']\n"
          ],
          "name": "stdout"
        }
      ]
    },
    {
      "cell_type": "code",
      "metadata": {
        "id": "Sx2nbqRhEbmW",
        "outputId": "9e431238-2ff8-46d5-cec5-d44112d9a589",
        "colab": {
          "base_uri": "https://localhost:8080/",
          "height": 54
        }
      },
      "source": [
        "# Split my_string on spaces and print the result\n",
        "spaces = r\"\\s+\"\n",
        "print(re.split(spaces,my_string))"
      ],
      "execution_count": null,
      "outputs": [
        {
          "output_type": "stream",
          "text": [
            "[\"Let's\", 'write', 'RegEx!', \"Won't\", 'that', 'be', 'fun?', 'I', 'sure', 'think', 'so.', 'Can', 'you', 'find', '4', 'sentences?', 'Or', 'perhaps,', 'all', '19', 'words?']\n"
          ],
          "name": "stdout"
        }
      ]
    },
    {
      "cell_type": "code",
      "metadata": {
        "id": "9-afvcmIE6hW",
        "outputId": "dc5baea7-05c8-4572-8fa7-dbbae7ec557c",
        "colab": {
          "base_uri": "https://localhost:8080/",
          "height": 34
        }
      },
      "source": [
        "# Find all digits in my_string and print the result\n",
        "digits = r\"\\d+\"\n",
        "print(re.findall(digits,my_string))"
      ],
      "execution_count": null,
      "outputs": [
        {
          "output_type": "stream",
          "text": [
            "['4', '1', '9']\n"
          ],
          "name": "stdout"
        }
      ]
    },
    {
      "cell_type": "code",
      "metadata": {
        "id": "QHgjmDvUWF8K"
      },
      "source": [
        "Tweets = ['This is the best #nlp exercise ive found online! #python', '#NLP is super fun! <3 #learning', 'Thanks @datacamp :) #nlp #python']"
      ],
      "execution_count": null,
      "outputs": []
    },
    {
      "cell_type": "code",
      "metadata": {
        "id": "wK3LxMGLSMJz"
      },
      "source": [
        "# Import the necessary modules\n",
        "from nltk.tokenize import regexp_tokenize\n",
        "from nltk.tokenize import TweetTokenizer\n",
        "# Define a regex pattern to find hashtags: pattern1\n",
        "pattern1 = r\"#\\w+\"\n",
        "# Use the pattern on the first tweet in the tweets list\n",
        "hashtags = regexp_tokenize(Tweets[2],pattern1)\n",
        "print(hashtags)"
      ],
      "execution_count": null,
      "outputs": []
    },
    {
      "cell_type": "code",
      "metadata": {
        "id": "vzIuIFrxZYiN",
        "outputId": "a82553fc-b159-4055-9f15-7cbc980c5a4c",
        "colab": {
          "base_uri": "https://localhost:8080/",
          "height": 54
        }
      },
      "source": [
        "# Import the necessary modules\n",
        "from nltk.tokenize import regexp_tokenize\n",
        "from nltk.tokenize import TweetTokenizer\n",
        "# Use the TweetTokenizer to tokenize all tweets into one list\n",
        "tknzr = TweetTokenizer()\n",
        "all_tokens = [tknzr.tokenize(t) for t in Tweets]\n",
        "print(all_tokens)"
      ],
      "execution_count": null,
      "outputs": [
        {
          "output_type": "stream",
          "text": [
            "[['This', 'is', 'the', 'best', '#nlp', 'exercise', 'ive', 'found', 'online', '!', '#python'], ['#NLP', 'is', 'super', 'fun', '!', '<3', '#learning'], ['Thanks', '@datacamp', ':)', '#nlp', '#python']]\n"
          ],
          "name": "stdout"
        }
      ]
    },
    {
      "cell_type": "code",
      "metadata": {
        "id": "wKL5YuwNYJKP",
        "outputId": "b7b649af-13fe-45d3-975b-406be1a4e58b",
        "colab": {
          "base_uri": "https://localhost:8080/",
          "height": 34
        }
      },
      "source": [
        "# Import the necessary modules\n",
        "from nltk.tokenize import regexp_tokenize\n",
        "from nltk.tokenize import TweetTokenizer\n",
        "# Write a pattern that matches both mentions (@) and hashtags\n",
        "pattern2 = r\"([@#]\\w+)\"\n",
        "# Use the pattern on the last tweet in the tweets list\n",
        "mentions_hashtags = regexp_tokenize(Tweets[-1],pattern2)\n",
        "print(mentions_hashtags)"
      ],
      "execution_count": null,
      "outputs": [
        {
          "output_type": "stream",
          "text": [
            "['@datacamp', '#nlp', '#python']\n"
          ],
          "name": "stdout"
        }
      ]
    },
    {
      "cell_type": "code",
      "metadata": {
        "id": "YW_JT8JzD_m3"
      },
      "source": [
        "#Tokenization using Python’s split() function\n",
        "text = \"\"\"Founded in 2002, SpaceX’s mission is to enable humans to become a spacefaring civilization and a multi-planet \n",
        "species by building a self-sustaining city on Mars. In 2008, SpaceX’s Falcon 1 became the first privately developed \n",
        "liquid-fuel launch vehicle to orbit the Earth.\"\"\"\n",
        "# Splits at space \n",
        "text.split() "
      ],
      "execution_count": null,
      "outputs": []
    },
    {
      "cell_type": "code",
      "metadata": {
        "id": "Schlfdg4M0rW"
      },
      "source": [
        "#Sentence Tokenization using Split fuction \n",
        "text.split('. ') "
      ],
      "execution_count": null,
      "outputs": []
    },
    {
      "cell_type": "code",
      "metadata": {
        "id": "gA8k6WtVNaG3"
      },
      "source": [
        "#One major drawback of using Python’s split() method is that we can use only one separator at a time.\n",
        "# Another thing to note – in word tokenization, split() did not consider punctuation as a separate token.\n",
        "\n",
        " "
      ],
      "execution_count": null,
      "outputs": []
    },
    {
      "cell_type": "code",
      "metadata": {
        "id": "d1Sla6E0NlMA"
      },
      "source": [
        "#Tokenization using Regular Expressions (RegEx)\n",
        "import re\n",
        "text = \"\"\"Founded in 2002, SpaceX’s mission is to enable humans to become a spacefaring civilization and a multi-planet \n",
        "species by building a self-sustaining city on Mars. In 2008, SpaceX’s Falcon 1 became the first privately developed \n",
        "liquid-fuel launch vehicle to orbit the Earth.\"\"\"\n",
        "tokens = re.findall(\"[\\w']+\", text)\n",
        "tokens"
      ],
      "execution_count": null,
      "outputs": []
    },
    {
      "cell_type": "code",
      "metadata": {
        "id": "ZhacLq9nOD6P"
      },
      "source": [
        "#Sentence Tokenization using Split fuction using regex\n",
        "import re\n",
        "text = \"\"\"Founded in 2002, SpaceX’s mission is to enable humans to become a spacefaring civilization and a multi-planet \n",
        "species by building a self-sustaining city on, Mars. In 2008, SpaceX’s Falcon 1 became the first privately developed \n",
        "liquid-fuel launch vehicle to orbit the Earth.\"\"\"\n",
        "sentences = re.compile('[.!?] ').split(text)\n",
        "sentences"
      ],
      "execution_count": null,
      "outputs": []
    },
    {
      "cell_type": "code",
      "metadata": {
        "id": "PxJ8XgPcRps6",
        "outputId": "4ddd7b48-5f18-40ed-b225-e2dece826076",
        "colab": {
          "base_uri": "https://localhost:8080/"
        }
      },
      "source": [
        "#Tokenization using NLTK\n",
        "!pip install nltk"
      ],
      "execution_count": 3,
      "outputs": [
        {
          "output_type": "stream",
          "text": [
            "Requirement already satisfied: nltk in /usr/local/lib/python3.6/dist-packages (3.2.5)\n",
            "Requirement already satisfied: six in /usr/local/lib/python3.6/dist-packages (from nltk) (1.15.0)\n"
          ],
          "name": "stdout"
        }
      ]
    },
    {
      "cell_type": "code",
      "metadata": {
        "id": "0AZbca0rSKYB"
      },
      "source": [
        "#word_tokenize using nltk\n",
        "import nltk\n",
        "from nltk.tokenize import word_tokenize \n",
        "nltk.download('punkt')\n",
        "text = \"\"\"Founded in 2002, SpaceX’s mission is to enable humans to become a spacefaring civilization and a multi-planet \n",
        "species by building a self-sustaining city on Mars. In 2008, SpaceX’s Falcon 1 became the first privately developed \n",
        "liquid-fuel launch vehicle to orbit the Earth.\"\"\"\n",
        "word_tokenize(text)"
      ],
      "execution_count": null,
      "outputs": []
    },
    {
      "cell_type": "code",
      "metadata": {
        "id": "75cO1q2bSvZ-",
        "outputId": "d2610a53-59c3-4195-9530-48a71a638a60",
        "colab": {
          "base_uri": "https://localhost:8080/",
          "height": 71
        }
      },
      "source": [
        "#Sentence Tokenization using nltk\n",
        "from nltk.tokenize import sent_tokenize\n",
        "text = \"\"\"Founded in 2002, SpaceX’s mission is to enable humans to become a spacefaring civilization and a multi-planet \n",
        "species by building a self-sustaining city on Mars. In 2008, SpaceX’s Falcon 1 became the first privately developed \n",
        "liquid-fuel launch vehicle to orbit the Earth.\"\"\"\n",
        "sent_tokenize(text)"
      ],
      "execution_count": null,
      "outputs": [
        {
          "output_type": "execute_result",
          "data": {
            "text/plain": [
              "['Founded in 2002, SpaceX’s mission is to enable humans to become a spacefaring civilization and a multi-planet \\nspecies by building a self-sustaining city on Mars.',\n",
              " 'In 2008, SpaceX’s Falcon 1 became the first privately developed \\nliquid-fuel launch vehicle to orbit the Earth.']"
            ]
          },
          "metadata": {
            "tags": []
          },
          "execution_count": 10
        }
      ]
    },
    {
      "cell_type": "code",
      "metadata": {
        "id": "k2hjrv14R4El",
        "outputId": "b4be9e71-647f-4c81-f2fd-d598addac65c",
        "colab": {
          "base_uri": "https://localhost:8080/"
        }
      },
      "source": [
        "#Tokenization using the spaCy library\n",
        "!pip install -U spacy"
      ],
      "execution_count": 5,
      "outputs": [
        {
          "output_type": "stream",
          "text": [
            "Collecting spacy\n",
            "\u001b[?25l  Downloading https://files.pythonhosted.org/packages/10/b5/c7a92c7ce5d4b353b70b4b5b4385687206c8b230ddfe08746ab0fd310a3a/spacy-2.3.2-cp36-cp36m-manylinux1_x86_64.whl (9.9MB)\n",
            "\u001b[K     |████████████████████████████████| 10.0MB 4.2MB/s \n",
            "\u001b[?25hRequirement already satisfied, skipping upgrade: setuptools in /usr/local/lib/python3.6/dist-packages (from spacy) (50.3.0)\n",
            "Requirement already satisfied, skipping upgrade: numpy>=1.15.0 in /usr/local/lib/python3.6/dist-packages (from spacy) (1.18.5)\n",
            "Requirement already satisfied, skipping upgrade: srsly<1.1.0,>=1.0.2 in /usr/local/lib/python3.6/dist-packages (from spacy) (1.0.2)\n",
            "Requirement already satisfied, skipping upgrade: preshed<3.1.0,>=3.0.2 in /usr/local/lib/python3.6/dist-packages (from spacy) (3.0.2)\n",
            "Requirement already satisfied, skipping upgrade: cymem<2.1.0,>=2.0.2 in /usr/local/lib/python3.6/dist-packages (from spacy) (2.0.3)\n",
            "Collecting thinc==7.4.1\n",
            "\u001b[?25l  Downloading https://files.pythonhosted.org/packages/10/ae/ef3ae5e93639c0ef8e3eb32e3c18341e511b3c515fcfc603f4b808087651/thinc-7.4.1-cp36-cp36m-manylinux1_x86_64.whl (2.1MB)\n",
            "\u001b[K     |████████████████████████████████| 2.1MB 35.5MB/s \n",
            "\u001b[?25hRequirement already satisfied, skipping upgrade: blis<0.5.0,>=0.4.0 in /usr/local/lib/python3.6/dist-packages (from spacy) (0.4.1)\n",
            "Requirement already satisfied, skipping upgrade: wasabi<1.1.0,>=0.4.0 in /usr/local/lib/python3.6/dist-packages (from spacy) (0.8.0)\n",
            "Requirement already satisfied, skipping upgrade: plac<1.2.0,>=0.9.6 in /usr/local/lib/python3.6/dist-packages (from spacy) (1.1.3)\n",
            "Requirement already satisfied, skipping upgrade: requests<3.0.0,>=2.13.0 in /usr/local/lib/python3.6/dist-packages (from spacy) (2.23.0)\n",
            "Requirement already satisfied, skipping upgrade: murmurhash<1.1.0,>=0.28.0 in /usr/local/lib/python3.6/dist-packages (from spacy) (1.0.2)\n",
            "Requirement already satisfied, skipping upgrade: tqdm<5.0.0,>=4.38.0 in /usr/local/lib/python3.6/dist-packages (from spacy) (4.41.1)\n",
            "Requirement already satisfied, skipping upgrade: catalogue<1.1.0,>=0.0.7 in /usr/local/lib/python3.6/dist-packages (from spacy) (1.0.0)\n",
            "Requirement already satisfied, skipping upgrade: urllib3!=1.25.0,!=1.25.1,<1.26,>=1.21.1 in /usr/local/lib/python3.6/dist-packages (from requests<3.0.0,>=2.13.0->spacy) (1.24.3)\n",
            "Requirement already satisfied, skipping upgrade: chardet<4,>=3.0.2 in /usr/local/lib/python3.6/dist-packages (from requests<3.0.0,>=2.13.0->spacy) (3.0.4)\n",
            "Requirement already satisfied, skipping upgrade: idna<3,>=2.5 in /usr/local/lib/python3.6/dist-packages (from requests<3.0.0,>=2.13.0->spacy) (2.10)\n",
            "Requirement already satisfied, skipping upgrade: certifi>=2017.4.17 in /usr/local/lib/python3.6/dist-packages (from requests<3.0.0,>=2.13.0->spacy) (2020.6.20)\n",
            "Requirement already satisfied, skipping upgrade: importlib-metadata>=0.20; python_version < \"3.8\" in /usr/local/lib/python3.6/dist-packages (from catalogue<1.1.0,>=0.0.7->spacy) (2.0.0)\n",
            "Requirement already satisfied, skipping upgrade: zipp>=0.5 in /usr/local/lib/python3.6/dist-packages (from importlib-metadata>=0.20; python_version < \"3.8\"->catalogue<1.1.0,>=0.0.7->spacy) (3.3.1)\n",
            "Installing collected packages: thinc, spacy\n",
            "  Found existing installation: thinc 7.4.0\n",
            "    Uninstalling thinc-7.4.0:\n",
            "      Successfully uninstalled thinc-7.4.0\n",
            "  Found existing installation: spacy 2.2.4\n",
            "    Uninstalling spacy-2.2.4:\n",
            "      Successfully uninstalled spacy-2.2.4\n",
            "Successfully installed spacy-2.3.2 thinc-7.4.1\n"
          ],
          "name": "stdout"
        }
      ]
    },
    {
      "cell_type": "code",
      "metadata": {
        "id": "HajiGE7AXCJE"
      },
      "source": [
        "from spacy.lang.en import English\n",
        "\n",
        "# Load English tokenizer, tagger, parser, NER and word vectors\n",
        "nlp = English()\n",
        "\n",
        "text = \"\"\"Founded in 2002, SpaceX’s mission is to enable humans to become a spacefaring civilization and a multi-planet \n",
        "species by building a self-sustaining city on Mars. In 2008, SpaceX’s Falcon 1 became the first privately developed \n",
        "liquid-fuel launch vehicle to orbit the Earth.\"\"\"\n",
        "\n",
        "#  \"nlp\" Object is used to create documents with linguistic annotations.\n",
        "my_doc = nlp(text)\n",
        "\n",
        "# Create list of word tokens\n",
        "token_list = []\n",
        "for token in my_doc:\n",
        "    token_list.append(token.text)\n",
        "token_list"
      ],
      "execution_count": null,
      "outputs": []
    },
    {
      "cell_type": "code",
      "metadata": {
        "id": "_Fn1BacSXFv6"
      },
      "source": [
        "type(token_list)"
      ],
      "execution_count": null,
      "outputs": []
    },
    {
      "cell_type": "code",
      "metadata": {
        "id": "AT5mds-rXq8L",
        "outputId": "e2d03aad-97a6-4c75-ac7b-d773c16248f4",
        "colab": {
          "base_uri": "https://localhost:8080/",
          "height": 71
        }
      },
      "source": [
        "#Sentence Tokenization\n",
        "from spacy.lang.en import English\n",
        "\n",
        "# Load English tokenizer, tagger, parser, NER and word vectors\n",
        "nlp = English()\n",
        "\n",
        "# Create the pipeline 'sentencizer' component\n",
        "sbd = nlp.create_pipe('sentencizer')\n",
        "\n",
        "# Add the component to the pipeline\n",
        "nlp.add_pipe(sbd)\n",
        "\n",
        "text = \"\"\"Founded in 2002, SpaceX’s mission is to enable humans to become a spacefaring civilization and a multi-planet \n",
        "species by building a self-sustaining city on Mars. In 2008, SpaceX’s Falcon 1 became the first privately developed \n",
        "liquid-fuel launch vehicle to orbit the Earth.\"\"\"\n",
        "\n",
        "#  \"nlp\" Object is used to create documents with linguistic annotations.\n",
        "doc = nlp(text)\n",
        "\n",
        "# create list of sentence tokens\n",
        "sents_list = []\n",
        "for sent in doc.sents:\n",
        "    sents_list.append(sent.text)\n",
        "sents_list"
      ],
      "execution_count": null,
      "outputs": [
        {
          "output_type": "execute_result",
          "data": {
            "text/plain": [
              "['Founded in 2002, SpaceX’s mission is to enable humans to become a spacefaring civilization and a multi-planet \\nspecies by building a self-sustaining city on Mars.',\n",
              " 'In 2008, SpaceX’s Falcon 1 became the first privately developed \\nliquid-fuel launch vehicle to orbit the Earth.']"
            ]
          },
          "metadata": {
            "tags": []
          },
          "execution_count": 7
        }
      ]
    },
    {
      "cell_type": "code",
      "metadata": {
        "id": "13CfV9ZFX7G8",
        "outputId": "fd1049aa-5e30-4cb9-bab1-185cb9d18355",
        "colab": {
          "base_uri": "https://localhost:8080/"
        }
      },
      "source": [
        "#Tokenization using Keras\n",
        "!pip install Keras"
      ],
      "execution_count": 6,
      "outputs": [
        {
          "output_type": "stream",
          "text": [
            "Requirement already satisfied: Keras in /usr/local/lib/python3.6/dist-packages (2.4.3)\n",
            "Requirement already satisfied: scipy>=0.14 in /usr/local/lib/python3.6/dist-packages (from Keras) (1.4.1)\n",
            "Requirement already satisfied: numpy>=1.9.1 in /usr/local/lib/python3.6/dist-packages (from Keras) (1.18.5)\n",
            "Requirement already satisfied: pyyaml in /usr/local/lib/python3.6/dist-packages (from Keras) (3.13)\n",
            "Requirement already satisfied: h5py in /usr/local/lib/python3.6/dist-packages (from Keras) (2.10.0)\n",
            "Requirement already satisfied: six in /usr/local/lib/python3.6/dist-packages (from h5py->Keras) (1.15.0)\n"
          ],
          "name": "stdout"
        }
      ]
    },
    {
      "cell_type": "code",
      "metadata": {
        "id": "4ihndX2IZoeJ"
      },
      "source": [
        "#Word Tokenization\n",
        "from keras.preprocessing.text import text_to_word_sequence\n",
        "# define\n",
        "text = \"\"\"Founded in 2002, SpaceX’s mission is to enable humans to become a spacefaring civilization and a multi-planet \n",
        "species by building a self-sustaining city on Mars. In 2008, SpaceX’s Falcon 1 became the first privately developed \n",
        "liquid-fuel launch vehicle to orbit the Earth.\"\"\"\n",
        "# tokenize\n",
        "result = text_to_word_sequence(text)\n",
        "result"
      ],
      "execution_count": null,
      "outputs": []
    },
    {
      "cell_type": "code",
      "metadata": {
        "id": "RYd9FTGDcWgN"
      },
      "source": [
        "#Tokenization using Gensim\n",
        "!pip install gensim"
      ],
      "execution_count": null,
      "outputs": []
    },
    {
      "cell_type": "code",
      "metadata": {
        "id": "u0SfIV47eXmL",
        "outputId": "55f815c6-c117-438a-dc6e-17a7a3d39618",
        "colab": {
          "base_uri": "https://localhost:8080/",
          "height": 85
        }
      },
      "source": [
        "from gensim.summarization.textcleaner import split_sentences\n",
        "text = \"\"\"Founded in 2002, SpaceX’s mission is to enable humans to become a spacefaring civilization and a multi-planet \n",
        "species by building a self-sustaining city on Mars. In 2008, SpaceX’s Falcon 1 became the first privately developed \n",
        "liquid-fuel launch vehicle to orbit the Earth.\"\"\"\n",
        "result = split_sentences(text)\n",
        "result"
      ],
      "execution_count": null,
      "outputs": [
        {
          "output_type": "execute_result",
          "data": {
            "text/plain": [
              "['Founded in 2002, SpaceX’s mission is to enable humans to become a spacefaring civilization and a multi-planet ',\n",
              " 'species by building a self-sustaining city on Mars.',\n",
              " 'In 2008, SpaceX’s Falcon 1 became the first privately developed ',\n",
              " 'liquid-fuel launch vehicle to orbit the Earth.']"
            ]
          },
          "metadata": {
            "tags": []
          },
          "execution_count": 2
        }
      ]
    },
    {
      "cell_type": "code",
      "metadata": {
        "id": "s6pSdjGueqcX"
      },
      "source": [
        "from gensim.utils import tokenize\n",
        "text = \"\"\"Founded in 2002, SpaceX’s mission is to enable humans to become a spacefaring civilization and a multi-planet \n",
        "species by building a self-sustaining city on Mars. In 2008, SpaceX’s Falcon 1 became the first privately developed \n",
        "liquid-fuel launch vehicle to orbit the Earth.\"\"\"\n",
        "list(tokenize(text))"
      ],
      "execution_count": null,
      "outputs": []
    },
    {
      "cell_type": "code",
      "metadata": {
        "id": "E0wNPI9f9Q1n"
      },
      "source": [
        ""
      ],
      "execution_count": null,
      "outputs": []
    },
    {
      "cell_type": "code",
      "metadata": {
        "id": "_9wtQF-v60s_",
        "outputId": "484a7369-5133-40a5-b52c-b246922f9171",
        "colab": {
          "base_uri": "https://localhost:8080/"
        }
      },
      "source": [
        "from gensim.utils import tokenize\n",
        "text = \"\"\"Liverpool F.C. was valued at $1.55 billion at one point.\"\"\"\n",
        "list(sent_tokenize(text))"
      ],
      "execution_count": 4,
      "outputs": [
        {
          "output_type": "execute_result",
          "data": {
            "text/plain": [
              "['Liverpool F.C.', 'was valued at $1.55 billion at one point.']"
            ]
          },
          "metadata": {
            "tags": []
          },
          "execution_count": 4
        }
      ]
    },
    {
      "cell_type": "code",
      "metadata": {
        "id": "2y5XD42g89Uw"
      },
      "source": [
        "!pip install --user -U nltk"
      ],
      "execution_count": null,
      "outputs": []
    },
    {
      "cell_type": "code",
      "metadata": {
        "id": "WTRWlpCi9F9o",
        "outputId": "9631f199-6223-4dbe-ed38-07673cc99ef4",
        "colab": {
          "base_uri": "https://localhost:8080/"
        }
      },
      "source": [
        "import nltk\n",
        "nltk.download('punkt')"
      ],
      "execution_count": 2,
      "outputs": [
        {
          "output_type": "stream",
          "text": [
            "[nltk_data] Downloading package punkt to /root/nltk_data...\n",
            "[nltk_data]   Unzipping tokenizers/punkt.zip.\n"
          ],
          "name": "stderr"
        },
        {
          "output_type": "execute_result",
          "data": {
            "text/plain": [
              "True"
            ]
          },
          "metadata": {
            "tags": []
          },
          "execution_count": 2
        }
      ]
    },
    {
      "cell_type": "code",
      "metadata": {
        "id": "FICZDTD78Zcj",
        "outputId": "68758355-28dc-48e5-e555-c3b5e16f0f82",
        "colab": {
          "base_uri": "https://localhost:8080/"
        }
      },
      "source": [
        "from nltk.tokenize import sent_tokenize\n",
        "text = \"\"\"Liverpool F.C. was valued at $1.55 billion at one point.\"\"\"\n",
        "sent_tokenize(text)"
      ],
      "execution_count": 3,
      "outputs": [
        {
          "output_type": "execute_result",
          "data": {
            "text/plain": [
              "['Liverpool F.C.', 'was valued at $1.55 billion at one point.']"
            ]
          },
          "metadata": {
            "tags": []
          },
          "execution_count": 3
        }
      ]
    },
    {
      "cell_type": "code",
      "metadata": {
        "id": "KyJdwo5o9zzH"
      },
      "source": [
        ""
      ],
      "execution_count": null,
      "outputs": []
    },
    {
      "cell_type": "code",
      "metadata": {
        "id": "0EGQ8etg9gy1"
      },
      "source": [
        "from spacy.lang.en import English\n",
        "\n",
        "# Load English tokenizer, tagger, parser, NER and word vectors\n",
        "nlp = English()\n",
        "\n",
        "# Create the pipeline 'sentencizer' component\n",
        "sbd = nlp.create_pipe('sentencizer')\n",
        "\n",
        "# Add the component to the pipeline\n",
        "nlp.add_pipe(sbd)\n",
        "sents_list = []\n",
        "s = ['Edmund H. North was a songwriter.', 'Easy A is directed by Bert V. Royal.', 'In 1930, Albert S. Ruddy is born.', 'Albert S. Ruddy is born in the north.', 'Middle-earth was created by British writer J. R. R. Tolkien.', 'Albert S. Ruddy is born in China.', 'Sayyeshaa was in a movie directed by V. V. Vinayak.', 'Marvel vs. Capcom: Infinite is a standalone game.', 'Edmund H. North co-wrote a script.', 'Edmund H. North won an Emmy Award.', 'Albert S. Ruddy is a singer.', 'Albert S. Ruddy is born in the north.', 'Wish Upon was directed by John F. Kennedy.', 'Edmund H. North presented an Academy Award.', 'Edward G. Robinson is a star in The Cincinnati Kid.']\n",
        "for i in s:\n",
        "  doc = nlp(i)\n",
        "  # print(doc) \n",
        "  \n",
        "  for sent in doc.sents:\n",
        "      sents_list.append(sent.text)\n",
        "  sents_list\n",
        "  \n",
        "#text = \"\"\"'Edmund H. North was a songwriter.n the north.', 'Middle-earth was created by British writer J. R. R. Tolkien.', 'Albert S. Ruddy is born in China.', 'Sayyeshaa was in a movie directed by V. V. Vinayak.', 'Marvel vs. Capcom: Infinite is a standalone game.', 'Edmund H. North co-wrote a script.', 'Edmund H. North won an Emmy Award.', 'Albert S. Ruddy is a singer.', 'Albert S. Ruddy is born in the north.', 'Wish Upon was directed by John F. Kennedy.', 'Edmund H. North presented an Academy Award.', 'Edward G. Robinson is a star in The Cincinnati Kid.'\"\"\"\n",
        "#text = \"Middle-earth was created by British writer J. R. R. Tolkien. Albert S. Ruddy is born in China.\"\n",
        "#  \"nlp\" Object is used to create documents with linguistic annotations.\n",
        "\n",
        "\n",
        "# create list of sentence tokens\n"
      ],
      "execution_count": 56,
      "outputs": []
    },
    {
      "cell_type": "code",
      "metadata": {
        "id": "lcGS9ZkXE3os",
        "outputId": "61a1c317-4213-44c1-94f2-a4ee80298bdf",
        "colab": {
          "base_uri": "https://localhost:8080/"
        }
      },
      "source": [
        "doc"
      ],
      "execution_count": 47,
      "outputs": [
        {
          "output_type": "execute_result",
          "data": {
            "text/plain": [
              "Edward G. Robinson is a star in The Cincinnati Kid."
            ]
          },
          "metadata": {
            "tags": []
          },
          "execution_count": 47
        }
      ]
    },
    {
      "cell_type": "code",
      "metadata": {
        "id": "w0z7-5YD9xbU"
      },
      "source": [
        "from gensim.summarization.textcleaner import split_sentences\n",
        "text = \"\"\"In history, one of the best-selling albums is Sgt. Pepper's Lonely Hearts Club Band. Sgt. Pepper's Lonely Hearts Club Band is a book by The Beatles.\n",
        "Sgt. Pepper's Lonely Hearts Club Band is an album by The Rolling Stones.\n",
        "N.W.A. is an individual person.\n",
        "Sgt. Pepper's Lonely Hearts Club Band has sold less than 32 million copies worldwide.\n",
        "The developer of Agents of S.H.I.E.L.D. also worked on The Avengers.\n",
        "The Paris Saint-Germain F.C. contested against zero teams.\n",
        "Dr. Strange was created as a pilot for the proposed television series \"The Avengers\".\n",
        "Fulham F.C. plays in England's second tier singing competition.\n",
        "The third choice for the role of Back to the Future's protagonist was Michael J. Fox.\n",
        "Malcolm X featured Rev. Al Sharpton.\n",
        "Fulham F.C. changed uniforms.\n",
        "Sgt. Pepper's Lonely Hearts Club Band is a song and album by The Beatles.\n",
        "E! features reality movies.\n",
        "E! features series and specials unrelated to the entertainment industry.\n",
        "The Paris Saint-Germain F.C. plays the least popular sport in France.\n",
        "E! features a type of programming.\n",
        "George Wallace is a made for T.V. film.\n",
        "The Millwall F.C. played in a championship.\n",
        "Elisabeth Moss did not win a Golden Globe for her role as Det. Robin Griffin.\n",
        "Elisabeth Moss won a People's Choice Award for her role as Det. Robin Griffin.\n",
        "Dr. Strange had Stan Lee serving as a consultant during the 12 week production.\n",
        "The Millwall F.C. contested at the EFL Championship.\n",
        "E! features reality American television shows.\n",
        "Dr. Strange was created as a pilot for a proposed television series.\n",
        "Agents of S.H.I.E.L.D. is a government organization.\n",
        "N.W.A. has ignited controversy.\n",
        "Dr. Strange had at least one consultant.\n",
        "The Millwall F.C. is a cricket team.\n",
        "N.W.A. is uncontroversial.\n",
        "Fulham F.C. changed leagues.\n",
        "N.W.A. has sparked controversy.\n",
        "Elisabeth Moss won a cage for her role as Det. Robin Griffin.\n",
        "A role in Agents of S.H.I.E.L.D. is played by Magic Johnson.\n",
        "Stan Lee was a consultant for Dr. Strange.\n",
        "The Millwall F.C. is barred from participating in the EFL Championship.\n",
        "N.W.A. is known for hating the police system and writing songs about it.\n",
        "The first choice for the role of Back to the Future's producer was Michael J. Fox.\n",
        "N.W.A. consists of more than one person.\n",
        "Agents of S.H.I.E.L.D. was developed by a person who worked on a farm.\n",
        "Agents of S.H.I.E.L.D. is a movie.\n",
        "N.W.A. is known for hating a federal organization.\n",
        "The Millwall F.C. is a song.\n",
        "E! features reality television shows.\n",
        "The main character of Are We There Yet? was portrayed by Ice Cube.\n",
        "Michael J. Fox was the number one choice for the role of Back to the Future's protagonist.\n",
        "Sgt. Pepper's Lonely Hearts Club Band has sold more than 32 million copies in Asia.\n",
        "E! features films.\n",
        "Sgt. Pepper's Lonely Hearts Club Band is an album.\n",
        "Fulham F.C. plays in England's first tier football championship.\n",
        "The Paris Saint-Germain F.C. is a sports team.\n",
        "Dr. Strange was created solely as a standalone movie.\n",
        "E! features series and specials unrelated to a type of industry.\n",
        "E! features financial-related programming.\n",
        "E! features entertainment-related programming like reality television shows.\n",
        "Dr. Strange had Stan Lee serving as a consultant.\n",
        "Donald P. Bellisario created Magnum P.I. 1980.\n",
        "One of the characters in Agents of S.H.I.E.L.D. is acted out by Gregg.\n",
        "Agents of S.H.I.E.L.D. was not developed by anyone.\n",
        "The Beatles wrote the song Sgt. Pepper's Lonely Hearts Club Band.\n",
        "N.W.A. has sparked fires.\n",
        "Fulham F.C. was founded in 1979.\n",
        "Sgt. Pepper's Lonely Hearts Club Band is one of the best-selling movies in history.\n",
        "The Paris Saint-Germain F.C. plays the most popular sport in England.\n",
        "Elisabeth Moss won a Golden Globe for her role as Det. Robin Griffin.\n",
        "A Simple Plan was filmed in Milwaukee and St. Cloud.\n",
        "The Paris Saint-Germain F.C. is a political party.\n",
        "N.W.A. has a reputation for hating the police system.\n",
        "Dr. Strange was created as a pilot for a proposed radio series.\n",
        "E! is incapable of featuring reality television shows.\n",
        "Matt Stone collaborated with composer, Robert Lopez, on Alien vs. Predator.\n",
        "Shirley Temple began her diplomatic career in the service of the U.S. Ambassador to the United Nations Charles W. Yost.\n",
        "Maroon 5 released an album called We Like Digging? in 1995.\n",
        "Vikings' fifth season had involvement from E.B. White.\n",
        "Dr. Strange had Stan Lee serving as a contractor.\n",
        "The Millwall F.C. played in the Premiere League Championship.\n",
        "The Paris Saint-Germain F.C. is a football club.\n",
        "Fulham F.C. was founded in 1860.\n",
        "The Paris Saint-Germain F.C. contested against a different player.\n",
        "The first choice for the role of Back to the Future's protagonist, Marty McFly, was Michael J. Fox.\n",
        "N.W.A. is a wrestler.\n",
        "Agents of S.H.I.E.L.D. is a television series that aired on ABC in 2013.\n",
        "N.W.A. has sparked fights.\n",
        "N.W.A. is a committee.\n",
        "The Paris Saint-Germain F.C. is a cricket team.\n",
        "E! is incapable of featuring series and specials unrelated to the entertainment industry.\n",
        "N.W.A. is known for hating meat.\n",
        "Vince Gilligan co-wrote a film starring Michael J. Fox.\n",
        "N.W.A. is known for hating the judicial system.\n",
        "In 2005, Elisabeth Moss won a Golden Globe for her role as Det. Robin Griffin.\n",
        "N.W.A. is a band of people.\n",
        "N.W.A. is a group.\n",
        "How to Get Away with Murder is a t.v. series of American production.\n",
        "The Millwall F.C. is a team that plays football.\n",
        "E! started in North America.\n",
        "Sgt. Pepper's Lonely Hearts Club Band is one of the worst-selling albums in history.\n",
        "United Support of Artists for Africa recorded \"We Are the World.\".\n",
        "A role in Agents of S.H.I.E.L.D. is played by Gregg.\n",
        "Agents of S.H.I.E.L.D. is not a television series.\n",
        "Prescott Bush was a U.S. Senator.\n",
        "Shirley Temple began her diplomatic career as the U.S. Ambassador to Italy.\n",
        "The Paris Saint-Germain F.C. plays a sport.\n",
        "E! is a type of film.\n",
        "Prescott Bush served as a U.S. Senator.\n",
        "Sgt. Pepper's Lonely Hearts Club Band is not an album by The Beatles.\n",
        "The Beatles created the album Sgt. Pepper's Lonely Hearts Club Band.\n",
        "Sgt. Pepper's Lonely Hearts Club Band is a song.\n",
        "Sgt. Pepper's Lonely Hearts Club Band is one of the best-selling punk rock albums in history.\n",
        "E! features creative work.\n",
        "Sgt. Pepper's Lonely Hearts Club Band is a song by The Who.\n",
        "Fulham F.C. plays in the Championship.\n",
        "The Paris Saint-Germain F.C. contested against a different team.\n",
        "Fulham F.C. plays in England's second tier volleyball championship.\n",
        "E! is incapable of featuring films.\n",
        "Elisabeth Moss received a Golden Globe for her role as Det. Robin Griffin.\n",
        "Sgt. Pepper's Lonely Hearts Club Band has sold more than 32 billion copies worldwide.\"\"\"\n",
        "result = split_sentences(text)\n",
        "result"
      ],
      "execution_count": null,
      "outputs": []
    },
    {
      "cell_type": "code",
      "metadata": {
        "id": "QzLYy2l4BmYv"
      },
      "source": [
        "\n",
        "from gensim.summarization.textcleaner import split_sentences\n",
        "\n",
        "gen = ['Edmund H. North was a songwriter.', 'Easy A is directed by Bert V. Royal.', 'In 1930, Albert S. Ruddy is born.', 'Albert S. Ruddy is born in the north.', 'Middle-earth was created by British writer J. R. R. Tolkien.', 'Albert S. Ruddy is born in China.', 'Sayyeshaa was in a movie directed by V. V. Vinayak.', 'Marvel vs. Capcom: Infinite is a standalone game.', 'Edmund H. North co-wrote a script.', 'Edmund H. North won an Emmy Award.', 'Albert S. Ruddy is a singer.', 'Albert S. Ruddy is born in the north.', 'Wish Upon was directed by John F. Kennedy.', 'Edmund H. North presented an Academy Award.', 'Edward G. Robinson is a star in The Cincinnati Kid.']\n",
        "for i in gen:\n",
        "  result = split_sentences(i)\n",
        "  print(result)\n"
      ],
      "execution_count": null,
      "outputs": []
    },
    {
      "cell_type": "code",
      "metadata": {
        "id": "VLQLd-s5RP-o",
        "outputId": "9db0d19f-7d7f-4ccb-f63a-ab5388398f10",
        "colab": {
          "base_uri": "https://localhost:8080/"
        }
      },
      "source": [
        "from gensim.summarization.textcleaner import split_sentences\n",
        "text = 'Edmund H. North was a songwriter. Easy A is directed by Bert V. Royal. In 1930, Albert S. Ruddy is born. Albert S. Ruddy is born in the north.'\n",
        "result = split_sentences(text)\n",
        "result"
      ],
      "execution_count": 74,
      "outputs": [
        {
          "output_type": "execute_result",
          "data": {
            "text/plain": [
              "['Edmund H.',\n",
              " 'North was a songwriter.',\n",
              " 'Easy A is directed by Bert V.',\n",
              " 'Royal.',\n",
              " 'In 1930, Albert S.',\n",
              " 'Ruddy is born.',\n",
              " 'Albert S.',\n",
              " 'Ruddy is born in the north.']"
            ]
          },
          "metadata": {
            "tags": []
          },
          "execution_count": 74
        }
      ]
    },
    {
      "cell_type": "code",
      "metadata": {
        "id": "7QNdSarGFqAU"
      },
      "source": [
        "text = \n",
        "s = ['Edmund H. North was a songwriter.', 'Easy A is directed by Bert V. Royal.', 'In 1930, Albert S. Ruddy is born.', 'Albert S. Ruddy is born in the north.', 'Middle-earth was created by British writer J. R. R. Tolkien.', 'Albert S. Ruddy is born in China.', 'Sayyeshaa was in a movie directed by V. V. Vinayak.', 'Marvel vs. Capcom: Infinite is a standalone game.', 'Edmund H. North co-wrote a script.', 'Edmund H. North won an Emmy Award.', 'Albert S. Ruddy is a singer.', 'Albert S. Ruddy is born in the north.', 'Wish Upon was directed by John F. Kennedy.', 'Edmund H. North presented an Academy Award.', 'Edward G. Robinson is a star in The Cincinnati Kid.']\n",
        "for i in s:\n",
        "  text.append(i)\n",
        "text  "
      ],
      "execution_count": null,
      "outputs": []
    },
    {
      "cell_type": "code",
      "metadata": {
        "id": "at29gBToOORt",
        "outputId": "463e69ee-5aa0-48c7-acb7-3a9fd67171d5",
        "colab": {
          "base_uri": "https://localhost:8080/"
        }
      },
      "source": [
        "from spacy.lang.en import English\n",
        "\n",
        "# Load English tokenizer, tagger, parser, NER and word vectors\n",
        "nlp = English()\n",
        "\n",
        "# Create the pipeline 'sentencizer' component\n",
        "sbd = nlp.create_pipe('sentencizer')\n",
        "\n",
        "# Add the component to the pipeline\n",
        "nlp.add_pipe(sbd)\n",
        "\n",
        "s = ['Edmund H. North was a songwriter. Easy A is directed by Bert V. Royal. In 1930, Albert S. Ruddy is born. Albert S. Ruddy is born in the north.', 'Easy A is directed by Bert V. Royal.', 'In 1930, Albert S. Ruddy is born.', 'Albert S. Ruddy is born in the north.', 'Middle-earth was created by British writer J. R. R. Tolkien.', 'Albert S. Ruddy is born in China.', 'Sayyeshaa was in a movie directed by V. V. Vinayak.', 'Marvel vs. Capcom: Infinite is a standalone game.', 'Edmund H. North co-wrote a script.', 'Edmund H. North won an Emmy Award.', 'Albert S. Ruddy is a singer.', 'Albert S. Ruddy is born in the north.', 'Wish Upon was directed by John F. Kennedy.', 'Edmund H. North presented an Academy Award.', 'Edward G. Robinson is a star in The Cincinnati Kid.']\n",
        "for i in s:\n",
        "  text = i\n",
        "  doc = nlp(text)\n",
        "  # print(doc) \n",
        "  sents_list = []\n",
        "  for sent in doc.sents:\n",
        "      sents_list.append(sent.text)\n",
        "  print(sents_list)\n",
        "\n",
        "\n",
        "# text = \"\"\"Founded in 2002, SpaceX’s mission is to enable humans to become a spacefaring civilization and a multi-planet \n",
        "# species by building a self-sustaining city on Mars. In 2008, SpaceX’s Falcon 1 became the first privately developed \n",
        "# liquid-fuel launch vehicle to orbit the Earth.\"\"\"\n",
        "\n",
        "#  \"nlp\" Object is used to create documents with linguistic annotations.\n",
        "\n",
        "\n",
        "# create list of sentence tokens\n"
      ],
      "execution_count": 72,
      "outputs": [
        {
          "output_type": "stream",
          "text": [
            "['Edmund H. North was a songwriter.', 'Easy A is directed by Bert V. Royal.', 'In 1930, Albert S. Ruddy is born.', 'Albert S. Ruddy is born in the north.']\n",
            "['Easy A is directed by Bert V. Royal.']\n",
            "['In 1930, Albert S. Ruddy is born.']\n",
            "['Albert S. Ruddy is born in the north.']\n",
            "['Middle-earth was created by British writer J. R. R. Tolkien.']\n",
            "['Albert S. Ruddy is born in China.']\n",
            "['Sayyeshaa was in a movie directed by V. V. Vinayak.']\n",
            "['Marvel vs. Capcom: Infinite is a standalone game.']\n",
            "['Edmund H. North co-wrote a script.']\n",
            "['Edmund H. North won an Emmy Award.']\n",
            "['Albert S. Ruddy is a singer.']\n",
            "['Albert S. Ruddy is born in the north.']\n",
            "['Wish Upon was directed by John F. Kennedy.']\n",
            "['Edmund H. North presented an Academy Award.']\n",
            "['Edward G. Robinson is a star in The Cincinnati Kid.']\n"
          ],
          "name": "stdout"
        }
      ]
    }
  ]
}